{
 "cells": [
  {
   "cell_type": "code",
   "execution_count": null,
   "id": "b66f07cb",
   "metadata": {},
   "outputs": [],
   "source": [
    "def remove_outliers_from_column(df: pd.DataFrame, target_col, threshold:float = 1.5):\n",
    "    Q1 = df[target_col].quantile(0.25)\n",
    "    Q3 = df[target_col].quantile(0.75)\n",
    "    IQR = Q3 - Q1\n",
    "    \n",
    "    lower_bound = Q1 - threshold * IQR\n",
    "    upper_bound = Q3 + threshold * IQR\n",
    "\n",
    "    outliers = df[(df[target_col] >= lower_bound) & (df[target_col] <= upper_bound)]\n",
    "\n",
    "    return outliers"
   ]
  },
  {
   "cell_type": "code",
   "execution_count": null,
   "id": "e98648c2",
   "metadata": {},
   "outputs": [],
   "source": [
    "def remove_outliers_from_all_columns(df: pd.DataFrame, threshold:float = 1.5):\n",
    "    df_clean = df.copy()\n",
    "\n",
    "    numeric_columns = df.select_dtypes(include=[\"float64\", \"int64\"]).columns\n",
    "\n",
    "    for col in numeric_columns:\n",
    "        Q1 = df[col].quantile(0.25)\n",
    "        Q3 = df[col].quantile(0.75)\n",
    "        IQR = Q3 - Q1\n",
    "        \n",
    "        lower_bound = Q1 - threshold * IQR\n",
    "        upper_bound = Q3 + threshold * IQR\n",
    "\n",
    "        df_clean = df_clean[(df_clean[col] >= lower_bound) & (df_clean[col] <= upper_bound)]\n",
    "\n",
    "    return df_clean.copy()"
   ]
  },
  {
   "cell_type": "code",
   "execution_count": null,
   "id": "dc0d02a5",
   "metadata": {},
   "outputs": [],
   "source": [
    "def find_outliers_iqr(df: pd.DataFrame, threshold: float = 1.5):\n",
    "    outlier_summary = {}\n",
    "\n",
    "    numeric_columns = df.select_dtypes(include=[\"float64\", \"int64\"]).columns\n",
    "    \n",
    "    for col in numeric_columns:\n",
    "        Q1 = df[col].quantile(0.25)\n",
    "        Q3 = df[col].quantile(0.75)\n",
    "        IQR = Q3 - Q1\n",
    "        \n",
    "        lower_bound = Q1 - threshold * IQR\n",
    "        upper_bound = Q3 + threshold * IQR\n",
    "\n",
    "        outliers = df[(df[col] < lower_bound) | (df[col] > upper_bound)]\n",
    "\n",
    "        outlier_summary[col] = {\n",
    "            \"outlier_count\": len(outliers),\n",
    "            \"outlier_percentage\": 100 * outliers.shape[0] / df.shape[0],\n",
    "            \"lower_bound\": lower_bound,\n",
    "            \"upper_bound\": upper_bound\n",
    "        }\n",
    "\n",
    "    return pd.DataFrame(outlier_summary)"
   ]
  },
  {
   "cell_type": "code",
   "execution_count": null,
   "id": "fcc6101b",
   "metadata": {},
   "outputs": [],
   "source": [
    "import math\n",
    "\n",
    "def plot_all_histograms(df: pd.DataFrame, title_prefix: str = \"\"):\n",
    "\n",
    "    num_cols = df.select_dtypes(include=[np.number]).columns\n",
    "    n_cols = 3\n",
    "    n_rows = math.ceil(len(num_cols) / n_cols)\n",
    "\n",
    "    plt.figure(figsize=(5 * n_cols, 4 * n_rows))\n",
    "\n",
    "    for i , col in enumerate(num_cols, 1):\n",
    "        plt.subplot(n_rows, n_cols, i)\n",
    "        sns.histplot(df[col], bins=30, kde=True)\n",
    "        plt.title(f\"{title_prefix} {col}\")\n",
    "        plt.xlabel(\"\")\n",
    "        plt.ylabel(\"\")\n",
    "\n",
    "    plt.tight_layout()\n",
    "    plt.show()"
   ]
  },
  {
   "cell_type": "code",
   "execution_count": null,
   "id": "ffbdca18",
   "metadata": {},
   "outputs": [],
   "source": [
    "def inverse_boxcox(y, lambda_):\n",
    "    if lambda_ == 0: return np.exp(y)\n",
    "    return np.power(y * lambda_ + 1, 1 / lambda_)"
   ]
  }
 ],
 "metadata": {
  "language_info": {
   "name": "python"
  }
 },
 "nbformat": 4,
 "nbformat_minor": 5
}
